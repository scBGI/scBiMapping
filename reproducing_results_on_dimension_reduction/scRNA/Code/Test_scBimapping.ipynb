{
 "cells": [
  {
   "cell_type": "code",
   "execution_count": 1,
   "id": "7efca87c-49e4-476a-bf3c-0ec37b0c3c23",
   "metadata": {
    "execution": {
     "iopub.execute_input": "2024-12-03T09:04:49.036324Z",
     "iopub.status.busy": "2024-12-03T09:04:49.035674Z",
     "iopub.status.idle": "2024-12-03T09:04:49.046782Z",
     "shell.execute_reply": "2024-12-03T09:04:49.045024Z",
     "shell.execute_reply.started": "2024-12-03T09:04:49.036176Z"
    }
   },
   "outputs": [],
   "source": [
    "# use image: dimension_reduction_benchmark"
   ]
  },
  {
   "cell_type": "code",
   "execution_count": null,
   "id": "f2bde91c-d7b1-49a8-affc-890a9ef1b840",
   "metadata": {
    "execution": {
     "iopub.status.busy": "2024-12-04T06:50:09.993084Z",
     "iopub.status.idle": "2024-12-04T06:50:09.994108Z",
     "shell.execute_reply": "2024-12-04T06:50:09.993748Z",
     "shell.execute_reply.started": "2024-12-04T06:50:09.993710Z"
    },
    "tags": []
   },
   "outputs": [],
   "source": [
    "import time \n",
    "from numpy import * \n",
    "import numpy as np\n",
    "from scipy.sparse.linalg import eigs\n",
    "from scipy.sparse import *  \n",
    "import anndata \n",
    "import pandas as pd\n",
    "import scanpy as sc \n",
    "import os\n",
    "rd = np.random.RandomState(888) \n",
    "import sys\n",
    "import scBimapping\n",
    "import warnings\n",
    "warnings.filterwarnings(\"ignore\") \n",
    "import scib_metrics\n",
    "from sklearn.metrics import adjusted_rand_score, silhouette_score, adjusted_mutual_info_score\n",
    "import snapatac2 as snap    \n",
    "import episcanpy as epi \n",
    "import scipy as sp "
   ]
  },
  {
   "cell_type": "code",
   "execution_count": null,
   "id": "c1e3db42-c708-4f71-8ed8-89d9fd96e993",
   "metadata": {
    "tags": []
   },
   "outputs": [],
   "source": [
    " \n",
    "path = '/data/work/test_data'\n",
    "files = ['Zhengmix4eq.h5ad','Koh.h5ad','Zhengmix4uneq.h5ad','Kumar.h5ad','Zhengmix8eq.h5ad','Human_Cancer_cell_lines_RNA.h5ad']\n",
    "  \n",
    "methods_all = ['SnapATAC2','scBimapping','scanpy (PCA)']\n",
    " \n",
    "dir_out = '/data/work/embedding_results/RNA/'\n",
    " \n",
    "for method in methods_all:\n",
    "    for dataName in files:\n",
    "        print(dataName)\n",
    "        adata = anndata.read(path+'/'+dataName)   \n",
    "        scBiMapping.scBiMapping_DR(adata,n_embedding = 30)\n",
    "        embedding = adata.obsm['U'] \n",
    "       \n",
    "        np.savetxt(dir_out + method + dataName + '-NoPreProcssing' + \"reduced_dim.tsv\", embedding, delimiter=\"\\t\")"
   ]
  },
  {
   "cell_type": "code",
   "execution_count": null,
   "id": "18e1dd14-6954-404d-811b-c9aa21056379",
   "metadata": {},
   "outputs": [],
   "source": []
  }
 ],
 "metadata": {
  "kernelspec": {
   "display_name": "Python 3 (ipykernel)",
   "language": "python",
   "name": "python3"
  },
  "language_info": {
   "codemirror_mode": {
    "name": "ipython",
    "version": 3
   },
   "file_extension": ".py",
   "mimetype": "text/x-python",
   "name": "python",
   "nbconvert_exporter": "python",
   "pygments_lexer": "ipython3",
   "version": "3.10.0"
  }
 },
 "nbformat": 4,
 "nbformat_minor": 5
}
