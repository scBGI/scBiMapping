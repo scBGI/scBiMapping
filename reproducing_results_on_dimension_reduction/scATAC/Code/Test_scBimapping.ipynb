{
 "cells": [
  {
   "cell_type": "code",
   "execution_count": null,
   "id": "7efca87c-49e4-476a-bf3c-0ec37b0c3c23",
   "metadata": {},
   "outputs": [],
   "source": [
    "# use image: dimension_reduction_benchmark"
   ]
  },
  {
   "cell_type": "code",
   "execution_count": null,
   "id": "f2bde91c-d7b1-49a8-affc-890a9ef1b840",
   "metadata": {
    "tags": []
   },
   "outputs": [],
   "source": [
    "import time \n",
    "from numpy import * \n",
    "import numpy as np\n",
    "from scipy.sparse.linalg import eigs\n",
    "from scipy.sparse import *  \n",
    "import anndata \n",
    "import pandas as pd\n",
    "import scanpy as sc \n",
    "import os\n",
    "rd = np.random.RandomState(888) \n",
    "import sys\n",
    "import scBiMapping\n",
    "import warnings\n",
    "warnings.filterwarnings(\"ignore\") \n",
    "import scib_metrics\n",
    "from sklearn.metrics import adjusted_rand_score, silhouette_score, adjusted_mutual_info_score\n",
    "import snapatac2 as snap    \n",
    "import episcanpy as epi \n",
    "import scipy as sp "
   ]
  },
  {
   "cell_type": "code",
   "execution_count": null,
   "id": "c1e3db42-c708-4f71-8ed8-89d9fd96e993",
   "metadata": {
    "tags": []
   },
   "outputs": [],
   "source": [
    " \n",
    "path = '/data/work/test_data'\n",
    "files = ['10x_Brain5k.h5ad','10x_PBMC10k.h5ad','Buenrostro_2018.h5ad','Chen_NBT_2019.h5ad','GSE194122_subset.h5ad','Ma_Cell_2020.h5ad','Trevino_Cell_2021.h5ad','Yao_Nature_2021.h5ad', 'Zemke_2023_human_subset.h5ad', 'Zemke_2023_mouse.h5ad']\n",
    "\n",
    "methods_all = ['scBimapping']\n",
    " \n",
    "dir_out = '/data/work/embedding_results/'\n",
    "for method in methods_all:\n",
    "    for dataName in files:\n",
    "            print(dataName)\n",
    "            adata = anndata.read(path+'/'+dataName)   \n",
    "            if method == 'scBimapping':\n",
    "                scBiMapping.scBiMapping_DR(adata,n_embedding = 30)\n",
    "                embedding = adata.obsm['U']\n",
    "                np.savetxt(dir_out + method + dataName + \"reduced_dim.tsv\", embedding, delimiter=\"\\t\")\n",
    "             \n",
    " "
   ]
  }
 ],
 "metadata": {
  "kernelspec": {
   "display_name": "Python 3 (ipykernel)",
   "language": "python",
   "name": "python3"
  },
  "language_info": {
   "codemirror_mode": {
    "name": "ipython",
    "version": 3
   },
   "file_extension": ".py",
   "mimetype": "text/x-python",
   "name": "python",
   "nbconvert_exporter": "python",
   "pygments_lexer": "ipython3",
   "version": "3.10.0"
  }
 },
 "nbformat": 4,
 "nbformat_minor": 5
}
