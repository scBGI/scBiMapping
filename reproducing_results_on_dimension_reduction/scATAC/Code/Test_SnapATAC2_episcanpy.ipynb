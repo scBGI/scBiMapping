{
 "cells": [
  {
   "cell_type": "code",
   "execution_count": null,
   "id": "7efca87c-49e4-476a-bf3c-0ec37b0c3c23",
   "metadata": {},
   "outputs": [],
   "source": [
    "# use image: dimension_reduction_benchmark"
   ]
  },
  {
   "cell_type": "code",
   "execution_count": null,
   "id": "f2bde91c-d7b1-49a8-affc-890a9ef1b840",
   "metadata": {
    "tags": []
   },
   "outputs": [],
   "source": [
    "import time \n",
    "from numpy import * \n",
    "import numpy as np\n",
    "from scipy.sparse.linalg import eigs\n",
    "from scipy.sparse import *  \n",
    "import anndata \n",
    "import pandas as pd\n",
    "import scanpy as sc \n",
    "import os\n",
    "rd = np.random.RandomState(888) \n",
    "import sys\n",
    "import warnings\n",
    "warnings.filterwarnings(\"ignore\") \n",
    "import scib_metrics\n",
    "from sklearn.metrics import adjusted_rand_score, silhouette_score, adjusted_mutual_info_score\n",
    "import snapatac2 as snap    \n",
    "import episcanpy as epi \n",
    "import scipy as sp "
   ]
  },
  {
   "cell_type": "code",
   "execution_count": 2,
   "id": "c1e3db42-c708-4f71-8ed8-89d9fd96e993",
   "metadata": {
    "execution": {
     "iopub.execute_input": "2024-12-01T12:16:03.432509Z",
     "iopub.status.busy": "2024-12-01T12:16:03.432198Z",
     "iopub.status.idle": "2024-12-01T12:33:41.789027Z",
     "shell.execute_reply": "2024-12-01T12:33:41.787487Z",
     "shell.execute_reply.started": "2024-12-01T12:16:03.432491Z"
    },
    "tags": []
   },
   "outputs": [
    {
     "name": "stdout",
     "output_type": "stream",
     "text": [
      "Zemke_2023_mouse.h5ad\n"
     ]
    }
   ],
   "source": [
    " \n",
    "path = '/data/work/test_data'\n",
    "files = ['10x_Brain5k.h5ad','10x_PBMC10k.h5ad','Buenrostro_2018.h5ad','Chen_NBT_2019.h5ad','GSE194122_subset.h5ad','Ma_Cell_2020.h5ad','Trevino_Cell_2021.h5ad','Yao_Nature_2021.h5ad', 'Zemke_2023_human_subset.h5ad', 'Zemke_2023_mouse.h5ad']\n",
    " \n",
    "methods_all = ['SnapATAC2','SnapATAC2 (jaccard)','SnapATAC2 (svd)','epiScanpy']\n",
    " \n",
    "dir_out = '/data/work/embedding_results/'\n",
    "for method in methods_all:\n",
    "    for dataName in files:\n",
    "            print(dataName)\n",
    "            adata = anndata.read(path+'/'+dataName)   \n",
    "            if method == 'SnapATAC2':                     \n",
    "                _, evecs = snap.tl.spectral(adata, features=None, inplace=False, distance_metric=\"cosine\")\n",
    "                np.savetxt(dir_out + method + dataName + \"reduced_dim.tsv\", evecs, delimiter=\"\\t\")\n",
    "            elif method == 'SnapATAC2 (jaccard)':\n",
    "                _, evecs = snap.tl.spectral(adata, features=None, inplace=False, distance_metric=\"jaccard\")\n",
    "                np.savetxt(dir_out + method + dataName + \"reduced_dim.tsv\", evecs, delimiter=\"\\t\")\n",
    "            elif method == 'SnapATAC2 (svd)':\n",
    "                feature_weights = snap.tl._embedding.idf(adata)\n",
    "                X = adata.X @ sp.sparse.diags(feature_weights)\n",
    "                s = 1 / np.sqrt(np.ravel(sp.sparse.csr_matrix.power(X, 2).sum(axis = 1)))\n",
    "                X = sp.sparse.diags(s) @ X\n",
    "                D = np.ravel(X @ X.sum(axis = 0).T)\n",
    "                X = sp.sparse.diags(1 / np.sqrt(D)) @ X\n",
    "                evecs,evals,_ = sp.sparse.linalg.svds(X, k=30)\n",
    "                ix = evals.argsort()[::-1]\n",
    "                evals = evals[ix]\n",
    "                evecs = evecs[:, ix]\n",
    "                idx = [i for i in range(evals.shape[0]) if evals[i] > 0]\n",
    "                evals = evals[idx]\n",
    "                evecs = evecs[:, idx] * evals\n",
    "                np.savetxt(dir_out + method + dataName + \"reduced_dim.tsv\", evecs, delimiter=\"\\t\")\n",
    "            elif method == 'epiScanpy':    \n",
    "                def find_elbow(x):\n",
    "                    n = len(x)\n",
    "                    marks = []\n",
    "                    saturation = 0.01\n",
    "                    accum_gap = 0\n",
    "                    for i in range(1, n):\n",
    "                        gap = x[i-1] - x[i]\n",
    "                        accum_gap += gap\n",
    "                        if gap > saturation * accum_gap:\n",
    "                            marks.append(i)\n",
    "                    return min(n - 1, max(marks) + 1)\n",
    "                data = adata\n",
    "                data.X.data = data.X.data.astype(np.float64)\n",
    "                epi.pp.normalize_per_cell(data)\n",
    "                epi.pp.log1p(data)\n",
    "                epi.pp.pca(data, n_comps=30)\n",
    "                # sc.pl.pca_variance_ratio(data, log=True, save=\".png\")\n",
    "                n_pc = find_elbow(data.uns['pca']['variance'])\n",
    "                # print(f\"Elbow point: {n_pc}\")\n",
    "                embedding = data.obsm['X_pca'][:, :n_pc]\n",
    "                np.savetxt(dir_out + method + dataName + \"reduced_dim.tsv\", embedding, delimiter=\"\\t\") \n",
    " \n",
    " "
   ]
  },
  {
   "cell_type": "code",
   "execution_count": 3,
   "id": "ec05cc5a-3b74-4117-9be5-a83f58d00f17",
   "metadata": {
    "execution": {
     "iopub.execute_input": "2024-12-01T14:16:15.559290Z",
     "iopub.status.busy": "2024-12-01T14:16:15.558225Z",
     "iopub.status.idle": "2024-12-01T14:16:15.791632Z",
     "shell.execute_reply": "2024-12-01T14:16:15.790531Z",
     "shell.execute_reply.started": "2024-12-01T14:16:15.559187Z"
    }
   },
   "outputs": [
    {
     "data": {
      "text/plain": [
       "54"
      ]
     },
     "execution_count": 3,
     "metadata": {},
     "output_type": "execute_result"
    }
   ],
   "source": [
    "import gc\n",
    "gc.collect()"
   ]
  },
  {
   "cell_type": "code",
   "execution_count": null,
   "id": "2dc1ac35-5a70-42f0-b596-0b9bab7be0ac",
   "metadata": {},
   "outputs": [],
   "source": []
  }
 ],
 "metadata": {
  "kernelspec": {
   "display_name": "Python 3 (ipykernel)",
   "language": "python",
   "name": "python3"
  },
  "language_info": {
   "codemirror_mode": {
    "name": "ipython",
    "version": 3
   },
   "file_extension": ".py",
   "mimetype": "text/x-python",
   "name": "python",
   "nbconvert_exporter": "python",
   "pygments_lexer": "ipython3",
   "version": "3.10.0"
  }
 },
 "nbformat": 4,
 "nbformat_minor": 5
}
