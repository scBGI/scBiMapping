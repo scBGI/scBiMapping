{
 "cells": [
  {
   "cell_type": "code",
   "execution_count": 3,
   "id": "8399b280-80e6-48bf-970f-5082df035d29",
   "metadata": {
    "execution": {
     "iopub.execute_input": "2024-12-03T06:22:38.407950Z",
     "iopub.status.busy": "2024-12-03T06:22:38.407331Z",
     "iopub.status.idle": "2024-12-03T06:22:38.454202Z",
     "shell.execute_reply": "2024-12-03T06:22:38.452673Z",
     "shell.execute_reply.started": "2024-12-03T06:22:38.407900Z"
    },
    "tags": []
   },
   "outputs": [
    {
     "data": {
      "text/plain": [
       "0"
      ]
     },
     "execution_count": 3,
     "metadata": {},
     "output_type": "execute_result"
    }
   ],
   "source": [
    "import gc\n",
    "gc.collect()"
   ]
  },
  {
   "cell_type": "code",
   "execution_count": 4,
   "id": "b2cb016ce0cfae5",
   "metadata": {
    "ExecuteTime": {
     "end_time": "2024-03-02T09:12:46.462549Z",
     "start_time": "2024-03-02T09:12:45.178281900Z"
    },
    "execution": {
     "iopub.execute_input": "2024-12-03T06:22:44.914281Z",
     "iopub.status.busy": "2024-12-03T06:22:44.913658Z",
     "iopub.status.idle": "2024-12-03T06:22:49.854118Z",
     "shell.execute_reply": "2024-12-03T06:22:49.853097Z",
     "shell.execute_reply.started": "2024-12-03T06:22:44.914228Z"
    },
    "tags": []
   },
   "outputs": [],
   "source": [
    "import time,anndata,scBiMapping\n",
    "import warnings\n",
    "warnings.filterwarnings(\"ignore\")"
   ]
  },
  {
   "cell_type": "markdown",
   "id": "33b63e2a38bee1ef",
   "metadata": {},
   "source": [
    "## 1st dataset: a scATAC dataset"
   ]
  },
  {
   "cell_type": "code",
   "execution_count": 5,
   "id": "b2ba56ced3edd833",
   "metadata": {
    "ExecuteTime": {
     "end_time": "2024-03-02T09:12:46.616353300Z",
     "start_time": "2024-03-02T09:12:46.463550500Z"
    },
    "execution": {
     "iopub.execute_input": "2024-12-03T06:22:49.855624Z",
     "iopub.status.busy": "2024-12-03T06:22:49.855319Z",
     "iopub.status.idle": "2024-12-03T06:22:50.066756Z",
     "shell.execute_reply": "2024-12-03T06:22:50.065884Z",
     "shell.execute_reply.started": "2024-12-03T06:22:49.855608Z"
    },
    "tags": []
   },
   "outputs": [
    {
     "name": "stdout",
     "output_type": "stream",
     "text": [
      "1st dataset\n",
      "AnnData object with n_obs × n_vars = 1010 × 135687\n",
      "    obs: 'cell_annotation', 'batch'\n"
     ]
    }
   ],
   "source": [
    "# test on the 1st dataset\n",
    "print('1st dataset')\n",
    "adata = anndata.read_h5ad('/data/work/test_data/CD8_0.01.h5ad')\n",
    "print(adata)"
   ]
  },
  {
   "cell_type": "markdown",
   "id": "c15c2980-de42-4973-89c8-155d0fe68f45",
   "metadata": {},
   "source": [
    "## embedding"
   ]
  },
  {
   "cell_type": "code",
   "execution_count": 6,
   "id": "30897ece71b43c5",
   "metadata": {
    "ExecuteTime": {
     "end_time": "2024-03-02T09:12:48.093113700Z",
     "start_time": "2024-03-02T09:12:46.605353600Z"
    },
    "execution": {
     "iopub.execute_input": "2024-12-03T06:22:50.067879Z",
     "iopub.status.busy": "2024-12-03T06:22:50.067586Z",
     "iopub.status.idle": "2024-12-03T06:22:52.863702Z",
     "shell.execute_reply": "2024-12-03T06:22:52.862843Z",
     "shell.execute_reply.started": "2024-12-03T06:22:50.067861Z"
    },
    "tags": []
   },
   "outputs": [
    {
     "name": "stdout",
     "output_type": "stream",
     "text": [
      "AnnData object with n_obs × n_vars = 1010 × 135687\n",
      "    obs: 'cell_annotation', 'batch'\n",
      "    uns: 'V'\n",
      "    obsm: 'U'\n",
      "CPU times: user 6.96 s, sys: 585 ms, total: 7.55 s\n",
      "Wall time: 2.79 s\n"
     ]
    }
   ],
   "source": [
    "%%time\n",
    "scBiMapping.scBiMapping_DR(adata,n_embedding = 30)\n",
    "print(adata)"
   ]
  },
  {
   "cell_type": "markdown",
   "id": "d443cc21b1d40b36",
   "metadata": {},
   "source": [
    "## 2nd dataset:a Monkey scRNA dataset (with 1000 highly variable genes having been selected)"
   ]
  },
  {
   "cell_type": "code",
   "execution_count": 7,
   "id": "3d7a4eb6ad81bc12",
   "metadata": {
    "ExecuteTime": {
     "end_time": "2024-03-02T09:12:49.773495400Z",
     "start_time": "2024-03-02T09:12:48.087116400Z"
    },
    "execution": {
     "iopub.execute_input": "2024-12-03T06:22:52.865244Z",
     "iopub.status.busy": "2024-12-03T06:22:52.865009Z",
     "iopub.status.idle": "2024-12-03T06:22:57.032124Z",
     "shell.execute_reply": "2024-12-03T06:22:57.031298Z",
     "shell.execute_reply.started": "2024-12-03T06:22:52.865227Z"
    },
    "tags": []
   },
   "outputs": [
    {
     "name": "stdout",
     "output_type": "stream",
     "text": [
      "2nd dataset\n",
      "AnnData object with n_obs × n_vars = 1170002 × 1000\n",
      "    obs: 'organ', 'n_genes', 'percent_mito', 'n_counts'\n",
      "    var: 'n_cells', 'highly_variable', 'means', 'dispersions', 'dispersions_norm'\n",
      "    uns: 'hvg'\n",
      "    obsm: 'X_umap'\n"
     ]
    }
   ],
   "source": [
    "# test on the 2nd dataset\n",
    "print('2nd dataset')\n",
    "adata = anndata.read_h5ad('/data/work//test_data/Monkey_RNA_1000vars.h5ad')\n",
    "print(adata)"
   ]
  },
  {
   "cell_type": "markdown",
   "id": "e825fa23-497d-4abb-82ee-3ea6f2e7fef9",
   "metadata": {
    "execution": {
     "iopub.execute_input": "2024-12-02T13:07:30.655510Z",
     "iopub.status.busy": "2024-12-02T13:07:30.654623Z",
     "iopub.status.idle": "2024-12-02T13:07:30.661085Z",
     "shell.execute_reply": "2024-12-02T13:07:30.659627Z",
     "shell.execute_reply.started": "2024-12-02T13:07:30.655462Z"
    }
   },
   "source": [
    "## embedding"
   ]
  },
  {
   "cell_type": "code",
   "execution_count": 8,
   "id": "d779444d9d2b8275",
   "metadata": {
    "ExecuteTime": {
     "end_time": "2024-03-02T09:12:57.270367700Z",
     "start_time": "2024-03-02T09:12:49.774494800Z"
    },
    "execution": {
     "iopub.execute_input": "2024-12-03T06:22:57.033087Z",
     "iopub.status.busy": "2024-12-03T06:22:57.032908Z",
     "iopub.status.idle": "2024-12-03T06:23:10.899676Z",
     "shell.execute_reply": "2024-12-03T06:23:10.898625Z",
     "shell.execute_reply.started": "2024-12-03T06:22:57.033071Z"
    },
    "tags": []
   },
   "outputs": [
    {
     "name": "stdout",
     "output_type": "stream",
     "text": [
      "AnnData object with n_obs × n_vars = 1170002 × 1000\n",
      "    obs: 'organ', 'n_genes', 'percent_mito', 'n_counts'\n",
      "    var: 'n_cells', 'highly_variable', 'means', 'dispersions', 'dispersions_norm'\n",
      "    uns: 'hvg', 'V'\n",
      "    obsm: 'X_umap', 'U'\n",
      "CPU times: user 36.2 s, sys: 1.09 s, total: 37.3 s\n",
      "Wall time: 13.9 s\n"
     ]
    }
   ],
   "source": [
    "%%time\n",
    "scBiMapping.scBiMapping_DR(adata,n_embedding = 30)\n",
    "print(adata)"
   ]
  },
  {
   "cell_type": "markdown",
   "id": "2a77f19c-07ac-4a54-9bdd-97e05aedc03b",
   "metadata": {
    "execution": {
     "iopub.execute_input": "2024-12-02T03:17:53.871230Z",
     "iopub.status.busy": "2024-12-02T03:17:53.870374Z",
     "iopub.status.idle": "2024-12-02T03:17:53.876099Z",
     "shell.execute_reply": "2024-12-02T03:17:53.874963Z",
     "shell.execute_reply.started": "2024-12-02T03:17:53.871182Z"
    }
   },
   "source": [
    "## 3rd dataset:a scATAC dataset"
   ]
  },
  {
   "cell_type": "code",
   "execution_count": 9,
   "id": "3873434f-4646-45a6-99ff-c83930df9895",
   "metadata": {
    "execution": {
     "iopub.execute_input": "2024-12-03T06:23:10.901065Z",
     "iopub.status.busy": "2024-12-03T06:23:10.900559Z",
     "iopub.status.idle": "2024-12-03T06:23:36.174020Z",
     "shell.execute_reply": "2024-12-03T06:23:36.173075Z",
     "shell.execute_reply.started": "2024-12-03T06:23:10.901048Z"
    },
    "tags": []
   },
   "outputs": [
    {
     "name": "stdout",
     "output_type": "stream",
     "text": [
      "3rd dataset\n",
      "AnnData object with n_obs × n_vars = 54075 × 606219\n",
      "    obs: 'n_fragment', 'frac_dup', 'frac_mito', 'doublet_probability', 'doublet_score', 'cell_annotation', 'batch'\n"
     ]
    }
   ],
   "source": [
    "# test on the 2nd dataset\n",
    "print('3rd dataset')\n",
    "adata = anndata.read_h5ad('/data/work/test_data/Human_Cancer_cell_lines_ATAC.h5ad')\n",
    "print(adata)"
   ]
  },
  {
   "cell_type": "markdown",
   "id": "a10bda0e-882f-47ca-9a0d-8d2c5b4bb6cd",
   "metadata": {
    "execution": {
     "iopub.execute_input": "2024-12-02T13:07:15.524757Z",
     "iopub.status.busy": "2024-12-02T13:07:15.524250Z",
     "iopub.status.idle": "2024-12-02T13:07:15.529262Z",
     "shell.execute_reply": "2024-12-02T13:07:15.528517Z",
     "shell.execute_reply.started": "2024-12-02T13:07:15.524715Z"
    }
   },
   "source": [
    "## embedding"
   ]
  },
  {
   "cell_type": "code",
   "execution_count": 10,
   "id": "80f22e17-cf42-4b11-8dcf-93930df31779",
   "metadata": {
    "execution": {
     "iopub.execute_input": "2024-12-03T06:23:36.175745Z",
     "iopub.status.busy": "2024-12-03T06:23:36.175487Z",
     "iopub.status.idle": "2024-12-03T06:38:48.548545Z",
     "shell.execute_reply": "2024-12-03T06:38:48.546084Z",
     "shell.execute_reply.started": "2024-12-03T06:23:36.175726Z"
    },
    "tags": []
   },
   "outputs": [
    {
     "name": "stdout",
     "output_type": "stream",
     "text": [
      "AnnData object with n_obs × n_vars = 54075 × 606219\n",
      "    obs: 'n_fragment', 'frac_dup', 'frac_mito', 'doublet_probability', 'doublet_score', 'cell_annotation', 'batch'\n",
      "    uns: 'V'\n",
      "    obsm: 'U'\n",
      "CPU times: user 17min 24s, sys: 2min 20s, total: 19min 45s\n",
      "Wall time: 15min 12s\n"
     ]
    }
   ],
   "source": [
    "%%time\n",
    "scBiMapping.scBiMapping_DR(adata,n_embedding = 30)\n",
    "print(adata)"
   ]
  },
  {
   "cell_type": "code",
   "execution_count": null,
   "id": "51ca3535-e210-4e4c-ab7b-50e466569a26",
   "metadata": {},
   "outputs": [],
   "source": []
  }
 ],
 "metadata": {
  "kernelspec": {
   "display_name": "Python3.11.0",
   "language": "python",
   "name": "python3.11.0"
  },
  "language_info": {
   "codemirror_mode": {
    "name": "ipython",
    "version": 3
   },
   "file_extension": ".py",
   "mimetype": "text/x-python",
   "name": "python",
   "nbconvert_exporter": "python",
   "pygments_lexer": "ipython3",
   "version": "3.11.0"
  }
 },
 "nbformat": 4,
 "nbformat_minor": 5
}
