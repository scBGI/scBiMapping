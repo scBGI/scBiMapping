{
 "cells": [
  {
   "cell_type": "code",
   "execution_count": 1,
   "id": "0eef4216-b8b6-4e26-9c8b-3e4c9c4e1bbf",
   "metadata": {
    "execution": {
     "iopub.execute_input": "2024-12-04T03:10:12.249366Z",
     "iopub.status.busy": "2024-12-04T03:10:12.249113Z",
     "iopub.status.idle": "2024-12-04T03:10:21.823955Z",
     "shell.execute_reply": "2024-12-04T03:10:21.823120Z",
     "shell.execute_reply.started": "2024-12-04T03:10:12.249299Z"
    },
    "tags": []
   },
   "outputs": [],
   "source": [
    "import pandas as pd\n",
    "from sklearn.metrics import accuracy_score\n",
    "import scBiMapping\n",
    "import anndata as ad\n",
    "import scanpy as sc\n",
    "import numpy as np\n",
    "import warnings\n",
    "warnings.filterwarnings(\"ignore\")"
   ]
  },
  {
   "cell_type": "markdown",
   "id": "842d5cd4-71ce-493a-b234-bbef1ef298f8",
   "metadata": {},
   "source": [
    "## reference data: scRNA"
   ]
  },
  {
   "cell_type": "code",
   "execution_count": 2,
   "id": "240bce6c-3c57-456b-a231-f195d8b7f455",
   "metadata": {
    "execution": {
     "iopub.execute_input": "2024-12-04T03:10:21.826151Z",
     "iopub.status.busy": "2024-12-04T03:10:21.825657Z",
     "iopub.status.idle": "2024-12-04T03:10:29.430893Z",
     "shell.execute_reply": "2024-12-04T03:10:29.428763Z",
     "shell.execute_reply.started": "2024-12-04T03:10:21.826125Z"
    },
    "tags": []
   },
   "outputs": [],
   "source": [
    "multiome1 = ad.read('/data/work/test_data/NIPS-s1d1.h5ad') \n",
    "adata_ref = multiome1[:,multiome1.var['feature_types']=='GEX']\n",
    "adata_ref.var_names_make_unique()\n",
    "# sc.pp.normalize_total(adata_ref, target_sum=1e4)\n",
    "# sc.pp.log1p(adata_ref)\n",
    "# sc.pp.highly_variable_genes(adata_ref, n_top_genes=4000,subset=True,flavor='cell_ranger') #\n",
    " "
   ]
  },
  {
   "cell_type": "markdown",
   "id": "ba5e13d3-6dd0-4401-bdf6-7627d64d9eb9",
   "metadata": {
    "execution": {
     "iopub.execute_input": "2024-12-02T12:20:45.193933Z",
     "iopub.status.busy": "2024-12-02T12:20:45.192254Z",
     "iopub.status.idle": "2024-12-02T12:20:45.394124Z",
     "shell.execute_reply": "2024-12-02T12:20:45.392578Z",
     "shell.execute_reply.started": "2024-12-02T12:20:45.193497Z"
    },
    "tags": []
   },
   "source": [
    "## query dataset: scRNA"
   ]
  },
  {
   "cell_type": "code",
   "execution_count": 3,
   "id": "c076c0eb-c437-4f8f-b7a6-34c5f3bdec83",
   "metadata": {
    "execution": {
     "iopub.execute_input": "2024-12-04T03:10:29.438239Z",
     "iopub.status.busy": "2024-12-04T03:10:29.435547Z",
     "iopub.status.idle": "2024-12-04T03:10:35.368161Z",
     "shell.execute_reply": "2024-12-04T03:10:35.366718Z",
     "shell.execute_reply.started": "2024-12-04T03:10:29.438151Z"
    },
    "tags": []
   },
   "outputs": [],
   "source": [
    "multiome2 = ad.read_h5ad('/data/work/test_data/NIPS-s2d1.h5ad')  \n",
    "adata_query = multiome2[:,multiome2.var['feature_types']=='GEX']\n",
    "adata_query.var_names_make_unique()\n",
    "# sc.pp.normalize_total(adata_query, target_sum=1e4)\n",
    "# sc.pp.log1p(adata_query)\n",
    "# sc.pp.highly_variable_genes(adata_query, n_top_genes=4000,subset=True,flavor='cell_ranger') # "
   ]
  },
  {
   "cell_type": "markdown",
   "id": "d572df9c-e6a9-4cf2-9d08-dfc70da9d451",
   "metadata": {},
   "source": [
    "## Case1： knnMethod = 'HNSW'"
   ]
  },
  {
   "cell_type": "code",
   "execution_count": 4,
   "id": "5b733fbc-8d24-4308-842f-2f14e17df74a",
   "metadata": {
    "execution": {
     "iopub.execute_input": "2024-12-04T03:10:35.369760Z",
     "iopub.status.busy": "2024-12-04T03:10:35.369455Z",
     "iopub.status.idle": "2024-12-04T03:10:46.042401Z",
     "shell.execute_reply": "2024-12-04T03:10:46.040283Z",
     "shell.execute_reply.started": "2024-12-04T03:10:35.369730Z"
    },
    "tags": []
   },
   "outputs": [
    {
     "name": "stdout",
     "output_type": "stream",
     "text": [
      "n_embedding:  20\n",
      "normalization:  True\n",
      "K:  50\n",
      "knnMethod:  HNSW\n",
      "for each cell, find K nearest genes in the co-embedded space......\n",
      "for each cell, find K nearest genes in the co-embedded space......\n",
      "knn_based_Sim_ref:\n",
      "(6224, 13431)\n",
      "knn_based_Sim_query: \n",
      "(4220, 13431)\n",
      "\n",
      "Direct merge softmax-weighted coded reference and query dataset......\n",
      "(10444, 13431)\n",
      "\n",
      " reduction on sparse cell-markerGenes softmax-weighted matrix, to get low-embedding of cells only, using BiMapping\n",
      "v5...\n",
      "(6224, 20)\n",
      "(4220, 20)\n",
      "\n",
      "K_majority = 10 (for majority voting)\n",
      "find knn...\n",
      "voting...\n",
      "ACGTTACAGGCATTAC-4-s2d1       CD16+ Mono\n",
      "GGTGATTTCGCTAGAT-4-s2d1     Erythroblast\n",
      "ACAGGATCACTAAGAA-4-s2d1             cDC2\n",
      "CGCTACTTCATCCACC-4-s2d1       CD14+ Mono\n",
      "CTTTGGTGTGCTAGAC-4-s2d1    Naive CD20+ B\n",
      "Name: cell_type_predicted, dtype: object\n",
      "CPU times: user 34.6 s, sys: 2.05 s, total: 36.7 s\n",
      "Wall time: 10.7 s\n"
     ]
    }
   ],
   "source": [
    "%%time\n",
    "n_embedding = 20; # number of embeddings\n",
    "K = 50; # this parameter will heavily influence the speed. Don't be too large\n",
    "K_majority = 10; # parameter for marjority voting\n",
    "normalization = True; knnMethod = 'HNSW'; metric = 'euclidean'\n",
    "reduction_method_on_cells_only = 'BiMapping'; # 'BiMapping','SnapATAC2','None','minHash'\n",
    "\n",
    "CellType_Key_for_ref = 'cell_type' # this setting is Necessary, which denotes the cell type key of the reference dataset\n",
    "scBiMapping.scBiMapping_annotation(adata_ref, adata_query,n_embedding = n_embedding,normalization = normalization,K = K,K_majority = K_majority,knnMethod = knnMethod,reduction_method_on_cells_only = reduction_method_on_cells_only,CellType_Key_for_ref =CellType_Key_for_ref)\n",
    "print(adata_query.obs['cell_type_predicted'].head()) # predicted cell types for query cells"
   ]
  },
  {
   "cell_type": "code",
   "execution_count": 5,
   "id": "6742bfba-1371-4f6c-b5a1-75430e3199a2",
   "metadata": {
    "execution": {
     "iopub.execute_input": "2024-12-04T03:10:46.046126Z",
     "iopub.status.busy": "2024-12-04T03:10:46.044733Z",
     "iopub.status.idle": "2024-12-04T03:10:46.073336Z",
     "shell.execute_reply": "2024-12-04T03:10:46.071298Z",
     "shell.execute_reply.started": "2024-12-04T03:10:46.046069Z"
    },
    "tags": []
   },
   "outputs": [
    {
     "name": "stdout",
     "output_type": "stream",
     "text": [
      "accuracy: 0.8627962085308057\n"
     ]
    }
   ],
   "source": [
    "# Evaluate \n",
    "accuracy = accuracy_score(adata_query.obs['cell_type'], adata_query.obs['cell_type_predicted'])\n",
    "print(f'accuracy: {accuracy}')"
   ]
  },
  {
   "cell_type": "markdown",
   "id": "728d0538-93ff-4e64-a246-f15e5978f1a1",
   "metadata": {},
   "source": [
    "## Case2： knnMethod = 'NNDescent'"
   ]
  },
  {
   "cell_type": "code",
   "execution_count": 6,
   "id": "ebc0038a-9393-4313-ad6a-57fb8c327c62",
   "metadata": {
    "execution": {
     "iopub.execute_input": "2024-12-04T03:10:46.079948Z",
     "iopub.status.busy": "2024-12-04T03:10:46.079631Z",
     "iopub.status.idle": "2024-12-04T03:12:40.686327Z",
     "shell.execute_reply": "2024-12-04T03:12:40.685247Z",
     "shell.execute_reply.started": "2024-12-04T03:10:46.079926Z"
    },
    "tags": []
   },
   "outputs": [
    {
     "name": "stdout",
     "output_type": "stream",
     "text": [
      "n_embedding:  20\n",
      "normalization:  True\n",
      "K:  50\n",
      "knnMethod:  NNDescent\n",
      "for each cell, find K nearest genes in the co-embedded space......\n",
      "for each cell, find K nearest genes in the co-embedded space......\n",
      "knn_based_Sim_ref:\n",
      "(6224, 13431)\n",
      "knn_based_Sim_query: \n",
      "(4220, 13431)\n",
      "\n",
      "Direct merge softmax-weighted coded reference and query dataset......\n",
      "(10444, 13431)\n",
      "\n",
      " reduction on sparse cell-markerGenes softmax-weighted matrix, to get low-embedding of cells only, using BiMapping\n",
      "v5...\n",
      "(6224, 20)\n",
      "(4220, 20)\n",
      "\n",
      "K_majority = 10 (for majority voting)\n",
      "find knn...\n",
      "voting...\n",
      "ACGTTACAGGCATTAC-4-s2d1          CD16+ Mono\n",
      "GGTGATTTCGCTAGAT-4-s2d1        Erythroblast\n",
      "ACAGGATCACTAAGAA-4-s2d1    CD4+ T activated\n",
      "CGCTACTTCATCCACC-4-s2d1          CD14+ Mono\n",
      "CTTTGGTGTGCTAGAC-4-s2d1       Naive CD20+ B\n",
      "Name: cell_type_predicted, dtype: object\n",
      "CPU times: user 3min 55s, sys: 10.1 s, total: 4min 5s\n",
      "Wall time: 1min 54s\n"
     ]
    }
   ],
   "source": [
    "%%time\n",
    "n_embedding = 20; # number of embeddings\n",
    "K = 50; # this parameter will heavily influence the speed. Don't be too large\n",
    "K_majority = 10; # parameter for marjority voting\n",
    "normalization = True; knnMethod = 'NNDescent'; metric = 'euclidean'\n",
    "reduction_method_on_cells_only = 'BiMapping'; # 'BiMapping','SnapATAC2','None','minHash'\n",
    "\n",
    "CellType_Key_for_ref = 'cell_type' # this setting is Necessary, which denotes the cell type key of the reference dataset\n",
    "scBiMapping.scBiMapping_annotation(adata_ref, adata_query,n_embedding = n_embedding,normalization = normalization,K = K,K_majority = K_majority,knnMethod = knnMethod,reduction_method_on_cells_only = reduction_method_on_cells_only,CellType_Key_for_ref =CellType_Key_for_ref)\n",
    "print(adata_query.obs['cell_type_predicted'].head()) # predicted cell types for query cells"
   ]
  },
  {
   "cell_type": "code",
   "execution_count": 7,
   "id": "f576aa94-4da2-422e-b937-e96443412833",
   "metadata": {
    "execution": {
     "iopub.execute_input": "2024-12-04T03:12:40.687834Z",
     "iopub.status.busy": "2024-12-04T03:12:40.687481Z",
     "iopub.status.idle": "2024-12-04T03:12:40.701208Z",
     "shell.execute_reply": "2024-12-04T03:12:40.700321Z",
     "shell.execute_reply.started": "2024-12-04T03:12:40.687811Z"
    },
    "tags": []
   },
   "outputs": [
    {
     "name": "stdout",
     "output_type": "stream",
     "text": [
      "accuracy: 0.8514218009478673\n"
     ]
    }
   ],
   "source": [
    "# Evaluate \n",
    "accuracy = accuracy_score(adata_query.obs['cell_type'], adata_query.obs['cell_type_predicted'])\n",
    "print(f'accuracy: {accuracy}')"
   ]
  },
  {
   "cell_type": "code",
   "execution_count": null,
   "id": "d5194d8a-b7f5-41ef-acbf-20989292a46a",
   "metadata": {},
   "outputs": [],
   "source": []
  },
  {
   "cell_type": "code",
   "execution_count": null,
   "id": "40761062-0361-4bfc-8448-9d86a9d73433",
   "metadata": {},
   "outputs": [],
   "source": []
  }
 ],
 "metadata": {
  "kernelspec": {
   "display_name": "Python 3 (ipykernel)",
   "language": "python",
   "name": "python3"
  },
  "language_info": {
   "codemirror_mode": {
    "name": "ipython",
    "version": 3
   },
   "file_extension": ".py",
   "mimetype": "text/x-python",
   "name": "python",
   "nbconvert_exporter": "python",
   "pygments_lexer": "ipython3",
   "version": "3.11.0"
  }
 },
 "nbformat": 4,
 "nbformat_minor": 5
}
