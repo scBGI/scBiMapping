{
 "cells": [
  {
   "cell_type": "code",
   "execution_count": 1,
   "id": "0eef4216-b8b6-4e26-9c8b-3e4c9c4e1bbf",
   "metadata": {
    "execution": {
     "iopub.execute_input": "2024-12-04T03:47:01.386720Z",
     "iopub.status.busy": "2024-12-04T03:47:01.386160Z",
     "iopub.status.idle": "2024-12-04T03:47:12.304178Z",
     "shell.execute_reply": "2024-12-04T03:47:12.293582Z",
     "shell.execute_reply.started": "2024-12-04T03:47:01.386630Z"
    },
    "tags": []
   },
   "outputs": [],
   "source": [
    "import pandas as pd\n",
    "from sklearn.metrics import accuracy_score\n",
    "import scBiMapping\n",
    "import anndata as ad\n",
    "import scanpy as sc\n",
    "import numpy as np\n",
    "import warnings\n",
    "warnings.filterwarnings(\"ignore\")"
   ]
  },
  {
   "cell_type": "markdown",
   "id": "842d5cd4-71ce-493a-b234-bbef1ef298f8",
   "metadata": {},
   "source": [
    "## reference data: scATAC"
   ]
  },
  {
   "cell_type": "code",
   "execution_count": 2,
   "id": "240bce6c-3c57-456b-a231-f195d8b7f455",
   "metadata": {
    "execution": {
     "iopub.execute_input": "2024-12-04T03:47:12.312705Z",
     "iopub.status.busy": "2024-12-04T03:47:12.306782Z",
     "iopub.status.idle": "2024-12-04T03:47:19.645546Z",
     "shell.execute_reply": "2024-12-04T03:47:19.644224Z",
     "shell.execute_reply.started": "2024-12-04T03:47:12.312664Z"
    },
    "tags": []
   },
   "outputs": [],
   "source": [
    "multiome1 = ad.read('/data/work/test_data/NIPS-s1d1.h5ad') \n",
    "adata_ref = multiome1[:,multiome1.var['feature_types']=='ATAC'] "
   ]
  },
  {
   "cell_type": "markdown",
   "id": "ba5e13d3-6dd0-4401-bdf6-7627d64d9eb9",
   "metadata": {
    "execution": {
     "iopub.execute_input": "2024-12-02T12:20:45.193933Z",
     "iopub.status.busy": "2024-12-02T12:20:45.192254Z",
     "iopub.status.idle": "2024-12-02T12:20:45.394124Z",
     "shell.execute_reply": "2024-12-02T12:20:45.392578Z",
     "shell.execute_reply.started": "2024-12-02T12:20:45.193497Z"
    },
    "tags": []
   },
   "source": [
    "## query dataset: scATAC"
   ]
  },
  {
   "cell_type": "code",
   "execution_count": 3,
   "id": "c076c0eb-c437-4f8f-b7a6-34c5f3bdec83",
   "metadata": {
    "execution": {
     "iopub.execute_input": "2024-12-04T03:47:19.647491Z",
     "iopub.status.busy": "2024-12-04T03:47:19.647157Z",
     "iopub.status.idle": "2024-12-04T03:47:23.995644Z",
     "shell.execute_reply": "2024-12-04T03:47:23.994871Z",
     "shell.execute_reply.started": "2024-12-04T03:47:19.647463Z"
    },
    "tags": []
   },
   "outputs": [],
   "source": [
    "multiome2 = ad.read('/data/work/test_data/NIPS-s2d1.h5ad')  \n",
    "adata_query = multiome2[:,multiome2.var['feature_types']=='ATAC'] "
   ]
  },
  {
   "cell_type": "code",
   "execution_count": 4,
   "id": "657c6d49-cef0-4b7b-999e-4e979a809a58",
   "metadata": {
    "execution": {
     "iopub.execute_input": "2024-12-04T03:47:23.997764Z",
     "iopub.status.busy": "2024-12-04T03:47:23.997068Z",
     "iopub.status.idle": "2024-12-04T03:47:24.003026Z",
     "shell.execute_reply": "2024-12-04T03:47:24.002239Z",
     "shell.execute_reply.started": "2024-12-04T03:47:23.997733Z"
    },
    "tags": []
   },
   "outputs": [
    {
     "name": "stdout",
     "output_type": "stream",
     "text": [
      "View of AnnData object with n_obs × n_vars = 4220 × 116490\n",
      "    obs: 'GEX_pct_counts_mt', 'GEX_n_counts', 'GEX_n_genes', 'GEX_size_factors', 'GEX_phase', 'ATAC_nCount_peaks', 'ATAC_atac_fragments', 'ATAC_reads_in_peaks_frac', 'ATAC_blacklist_fraction', 'ATAC_nucleosome_signal', 'cell_type', 'batch', 'ATAC_pseudotime_order', 'GEX_pseudotime_order', 'Samplename', 'Site', 'DonorNumber', 'Modality', 'VendorLot', 'DonorID', 'DonorAge', 'DonorBMI', 'DonorBloodType', 'DonorRace', 'Ethnicity', 'DonorGender', 'QCMeds', 'DonorSmoker'\n",
      "    var: 'feature_types', 'gene_id'\n",
      "    uns: 'ATAC_gene_activity_var_names', 'dataset_id', 'genome', 'organism'\n",
      "    obsm: 'ATAC_gene_activity', 'ATAC_lsi_full', 'ATAC_lsi_red', 'ATAC_umap', 'GEX_X_pca', 'GEX_X_umap'\n",
      "    layers: 'counts'\n"
     ]
    }
   ],
   "source": [
    "print(adata_query)"
   ]
  },
  {
   "cell_type": "code",
   "execution_count": 5,
   "id": "84b35e10-d1a2-4022-92eb-ddce5010758e",
   "metadata": {
    "execution": {
     "iopub.execute_input": "2024-12-04T03:47:24.005452Z",
     "iopub.status.busy": "2024-12-04T03:47:24.004961Z",
     "iopub.status.idle": "2024-12-04T03:47:24.009555Z",
     "shell.execute_reply": "2024-12-04T03:47:24.008647Z",
     "shell.execute_reply.started": "2024-12-04T03:47:24.005422Z"
    },
    "tags": []
   },
   "outputs": [
    {
     "name": "stdout",
     "output_type": "stream",
     "text": [
      "View of AnnData object with n_obs × n_vars = 6224 × 116490\n",
      "    obs: 'GEX_pct_counts_mt', 'GEX_n_counts', 'GEX_n_genes', 'GEX_size_factors', 'GEX_phase', 'ATAC_nCount_peaks', 'ATAC_atac_fragments', 'ATAC_reads_in_peaks_frac', 'ATAC_blacklist_fraction', 'ATAC_nucleosome_signal', 'cell_type', 'batch', 'ATAC_pseudotime_order', 'GEX_pseudotime_order', 'Samplename', 'Site', 'DonorNumber', 'Modality', 'VendorLot', 'DonorID', 'DonorAge', 'DonorBMI', 'DonorBloodType', 'DonorRace', 'Ethnicity', 'DonorGender', 'QCMeds', 'DonorSmoker'\n",
      "    var: 'feature_types', 'gene_id'\n",
      "    uns: 'ATAC_gene_activity_var_names', 'dataset_id', 'genome', 'organism'\n",
      "    obsm: 'ATAC_gene_activity', 'ATAC_lsi_full', 'ATAC_lsi_red', 'ATAC_umap', 'GEX_X_pca', 'GEX_X_umap'\n",
      "    layers: 'counts'\n"
     ]
    }
   ],
   "source": [
    "print(adata_ref)"
   ]
  },
  {
   "cell_type": "markdown",
   "id": "50e7934f-0a62-4734-82fc-5be24d7c92d5",
   "metadata": {},
   "source": [
    "## Case1： knnMethod = 'HNSW'"
   ]
  },
  {
   "cell_type": "code",
   "execution_count": 6,
   "id": "5b733fbc-8d24-4308-842f-2f14e17df74a",
   "metadata": {
    "execution": {
     "iopub.execute_input": "2024-12-04T03:47:24.011295Z",
     "iopub.status.busy": "2024-12-04T03:47:24.010780Z",
     "iopub.status.idle": "2024-12-04T03:48:12.848628Z",
     "shell.execute_reply": "2024-12-04T03:48:12.841506Z",
     "shell.execute_reply.started": "2024-12-04T03:47:24.011269Z"
    },
    "tags": []
   },
   "outputs": [
    {
     "name": "stdout",
     "output_type": "stream",
     "text": [
      "n_embedding:  20\n",
      "normalization:  True\n",
      "K:  50\n",
      "knnMethod:  HNSW\n",
      "for each cell, find K nearest genes in the co-embedded space......\n",
      "for each cell, find K nearest genes in the co-embedded space......\n",
      "knn_based_Sim_ref:\n",
      "(6224, 116490)\n",
      "knn_based_Sim_query: \n",
      "(4220, 116490)\n",
      "\n",
      "Direct merge softmax-weighted coded reference and query dataset......\n",
      "(10444, 116490)\n",
      "\n",
      " reduction on sparse cell-markerGenes softmax-weighted matrix, to get low-embedding of cells only, using BiMapping\n",
      "v5...\n",
      "(6224, 20)\n",
      "(4220, 20)\n",
      "\n",
      "K_majority = 30 (for majority voting)\n",
      "find knn...\n",
      "voting...\n",
      "ACGTTACAGGCATTAC-4-s2d1      CD16+ Mono\n",
      "GGTGATTTCGCTAGAT-4-s2d1    Erythroblast\n",
      "ACAGGATCACTAAGAA-4-s2d1            cDC2\n",
      "CGCTACTTCATCCACC-4-s2d1      CD14+ Mono\n",
      "CTTTGGTGTGCTAGAC-4-s2d1            B1 B\n",
      "Name: cell_type_predicted, dtype: object\n",
      "CPU times: user 3min 4s, sys: 6.13 s, total: 3min 10s\n",
      "Wall time: 48.8 s\n"
     ]
    }
   ],
   "source": [
    "%%time\n",
    "n_embedding = 20; # number of embeddings\n",
    "K = 50; # this parameter will heavily influence the speed. Don't be too large\n",
    "K_majority = 30; # parameter for marjority voting\n",
    "normalization = True; knnMethod = 'HNSW'; metric = 'euclidean'\n",
    "reduction_method_on_cells_only = 'BiMapping'; # 'BiMapping','SnapATAC2','None','minHash'\n",
    "\n",
    "CellType_Key_for_ref = 'cell_type' # this setting is Necessary, which denotes the cell type key of the reference dataset\n",
    "scBiMapping.scBiMapping_annotation(adata_ref, adata_query,n_embedding = n_embedding,normalization = normalization,K = K,K_majority = K_majority,knnMethod = knnMethod,reduction_method_on_cells_only = reduction_method_on_cells_only,CellType_Key_for_ref =CellType_Key_for_ref)\n",
    "print(adata_query.obs['cell_type_predicted'].head()) # predicted cell types for query cells"
   ]
  },
  {
   "cell_type": "code",
   "execution_count": 7,
   "id": "6742bfba-1371-4f6c-b5a1-75430e3199a2",
   "metadata": {
    "execution": {
     "iopub.execute_input": "2024-12-04T03:48:12.852241Z",
     "iopub.status.busy": "2024-12-04T03:48:12.851684Z",
     "iopub.status.idle": "2024-12-04T03:48:12.869907Z",
     "shell.execute_reply": "2024-12-04T03:48:12.869028Z",
     "shell.execute_reply.started": "2024-12-04T03:48:12.852202Z"
    },
    "tags": []
   },
   "outputs": [
    {
     "name": "stdout",
     "output_type": "stream",
     "text": [
      "accuracy: 0.8056872037914692\n"
     ]
    }
   ],
   "source": [
    "# Evaluate \n",
    "accuracy = accuracy_score(adata_query.obs['cell_type'], adata_query.obs['cell_type_predicted'])\n",
    "print(f'accuracy: {accuracy}')"
   ]
  },
  {
   "cell_type": "markdown",
   "id": "77f9fc10-c409-4d6d-b5ad-b89a2ac59a2a",
   "metadata": {},
   "source": [
    "## Case2： knnMethod = 'NNDescent'"
   ]
  },
  {
   "cell_type": "code",
   "execution_count": 8,
   "id": "8c61ccab-68fb-4364-998f-0dbbe77f1709",
   "metadata": {
    "execution": {
     "iopub.execute_input": "2024-12-04T03:48:12.871492Z",
     "iopub.status.busy": "2024-12-04T03:48:12.870848Z",
     "iopub.status.idle": "2024-12-04T03:51:35.329593Z",
     "shell.execute_reply": "2024-12-04T03:51:35.328785Z",
     "shell.execute_reply.started": "2024-12-04T03:48:12.871466Z"
    },
    "tags": []
   },
   "outputs": [
    {
     "name": "stdout",
     "output_type": "stream",
     "text": [
      "n_embedding:  20\n",
      "normalization:  True\n",
      "K:  50\n",
      "knnMethod:  NNDescent\n",
      "for each cell, find K nearest genes in the co-embedded space......\n",
      "for each cell, find K nearest genes in the co-embedded space......\n",
      "knn_based_Sim_ref:\n",
      "(6224, 116490)\n",
      "knn_based_Sim_query: \n",
      "(4220, 116490)\n",
      "\n",
      "Direct merge softmax-weighted coded reference and query dataset......\n",
      "(10444, 116490)\n",
      "\n",
      " reduction on sparse cell-markerGenes softmax-weighted matrix, to get low-embedding of cells only, using BiMapping\n",
      "v5...\n",
      "(6224, 20)\n",
      "(4220, 20)\n",
      "\n",
      "K_majority = 30 (for majority voting)\n",
      "find knn...\n",
      "voting...\n",
      "ACGTTACAGGCATTAC-4-s2d1      CD16+ Mono\n",
      "GGTGATTTCGCTAGAT-4-s2d1    Erythroblast\n",
      "ACAGGATCACTAAGAA-4-s2d1            cDC2\n",
      "CGCTACTTCATCCACC-4-s2d1      CD14+ Mono\n",
      "CTTTGGTGTGCTAGAC-4-s2d1            B1 B\n",
      "Name: cell_type_predicted, dtype: object\n",
      "CPU times: user 17min 10s, sys: 56.6 s, total: 18min 6s\n",
      "Wall time: 3min 22s\n"
     ]
    }
   ],
   "source": [
    "%%time\n",
    "n_embedding = 20; # number of embeddings\n",
    "K = 50; # this parameter will heavily influence the speed. Don't be too large\n",
    "K_majority = 30; # parameter for marjority voting\n",
    "normalization = True; knnMethod = 'NNDescent'; metric = 'euclidean'\n",
    "reduction_method_on_cells_only = 'BiMapping'; # 'BiMapping','SnapATAC2','None','minHash'\n",
    "\n",
    "CellType_Key_for_ref = 'cell_type' # this setting is Necessary, which denotes the cell type key of the reference dataset\n",
    "scBiMapping.scBiMapping_annotation(adata_ref, adata_query,n_embedding = n_embedding,normalization = normalization,K = K,K_majority = K_majority,knnMethod = knnMethod,reduction_method_on_cells_only = reduction_method_on_cells_only,CellType_Key_for_ref =CellType_Key_for_ref)\n",
    "print(adata_query.obs['cell_type_predicted'].head()) # predicted cell types for query cells"
   ]
  },
  {
   "cell_type": "code",
   "execution_count": 9,
   "id": "4062b8e7-1ad0-4c8c-aa02-72ef629ea0dc",
   "metadata": {
    "execution": {
     "iopub.execute_input": "2024-12-04T03:51:35.331206Z",
     "iopub.status.busy": "2024-12-04T03:51:35.330910Z",
     "iopub.status.idle": "2024-12-04T03:51:35.340643Z",
     "shell.execute_reply": "2024-12-04T03:51:35.339973Z",
     "shell.execute_reply.started": "2024-12-04T03:51:35.331184Z"
    },
    "tags": []
   },
   "outputs": [
    {
     "name": "stdout",
     "output_type": "stream",
     "text": [
      "accuracy: 0.8063981042654028\n"
     ]
    }
   ],
   "source": [
    "# Evaluate \n",
    "accuracy = accuracy_score(adata_query.obs['cell_type'], adata_query.obs['cell_type_predicted'])\n",
    "print(f'accuracy: {accuracy}')"
   ]
  },
  {
   "cell_type": "code",
   "execution_count": null,
   "id": "cecd45f5-a806-4403-9702-d1e9a03b695a",
   "metadata": {},
   "outputs": [],
   "source": []
  }
 ],
 "metadata": {
  "kernelspec": {
   "display_name": "Python 3 (ipykernel)",
   "language": "python",
   "name": "python3"
  },
  "language_info": {
   "codemirror_mode": {
    "name": "ipython",
    "version": 3
   },
   "file_extension": ".py",
   "mimetype": "text/x-python",
   "name": "python",
   "nbconvert_exporter": "python",
   "pygments_lexer": "ipython3",
   "version": "3.11.0"
  }
 },
 "nbformat": 4,
 "nbformat_minor": 5
}
