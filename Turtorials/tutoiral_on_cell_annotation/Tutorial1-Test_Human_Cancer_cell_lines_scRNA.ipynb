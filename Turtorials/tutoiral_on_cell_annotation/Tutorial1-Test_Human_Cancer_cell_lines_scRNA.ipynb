{
 "cells": [
  {
   "cell_type": "code",
   "execution_count": 1,
   "id": "0eef4216-b8b6-4e26-9c8b-3e4c9c4e1bbf",
   "metadata": {
    "execution": {
     "iopub.execute_input": "2024-12-03T07:06:57.799411Z",
     "iopub.status.busy": "2024-12-03T07:06:57.798743Z",
     "iopub.status.idle": "2024-12-03T07:07:08.794745Z",
     "shell.execute_reply": "2024-12-03T07:07:08.730285Z",
     "shell.execute_reply.started": "2024-12-03T07:06:57.799268Z"
    },
    "tags": []
   },
   "outputs": [],
   "source": [
    "import pandas as pd\n",
    "from sklearn.metrics import accuracy_score\n",
    "import scBiMapping\n",
    "import anndata as ad\n",
    "import scanpy as sc\n",
    "import numpy as np\n",
    "import warnings\n",
    "warnings.filterwarnings(\"ignore\")"
   ]
  },
  {
   "cell_type": "code",
   "execution_count": 2,
   "id": "240bce6c-3c57-456b-a231-f195d8b7f455",
   "metadata": {
    "execution": {
     "iopub.execute_input": "2024-12-03T07:07:08.797906Z",
     "iopub.status.busy": "2024-12-03T07:07:08.797090Z",
     "iopub.status.idle": "2024-12-03T07:07:19.479932Z",
     "shell.execute_reply": "2024-12-03T07:07:19.478717Z",
     "shell.execute_reply.started": "2024-12-03T07:07:08.797865Z"
    },
    "tags": []
   },
   "outputs": [
    {
     "name": "stdout",
     "output_type": "stream",
     "text": [
      "View of AnnData object with n_obs × n_vars = 10000 × 14781\n",
      "    obs: 'cancer_type'\n",
      "View of AnnData object with n_obs × n_vars = 13101 × 14781\n",
      "    obs: 'cancer_type'\n"
     ]
    }
   ],
   "source": [
    "adata = ad.read('/data/work/test_data/Human_Cancer_cell_lines_RNA.h5ad')  \n",
    "adata.var_names_make_unique()\n",
    "# sc.pp.normalize_total(adata, target_sum=1e4)\n",
    "# sc.pp.log1p(adata)\n",
    "# sc.pp.highly_variable_genes(adata, n_top_genes=4000,subset=True,flavor='cell_ranger') #\n",
    " \n",
    "np.random.seed(seed=1)\n",
    "id = np.arange(adata.n_obs); np.random.shuffle(id); adata = adata[id,:]\n",
    "adata_ref = adata[:10000,:]\n",
    "adata_query = adata[10000:,:]\n",
    "print(adata_ref); print(adata_query)"
   ]
  },
  {
   "cell_type": "markdown",
   "id": "f558e9f7-58e7-41b2-a8d7-7e12898b09ef",
   "metadata": {},
   "source": [
    "## Case2： knnMethod = 'NNDescent'"
   ]
  },
  {
   "cell_type": "code",
   "execution_count": 3,
   "id": "ee03b13f-7ab7-4811-ac17-354a444ec153",
   "metadata": {
    "execution": {
     "iopub.execute_input": "2024-12-03T07:07:19.481148Z",
     "iopub.status.busy": "2024-12-03T07:07:19.480885Z",
     "iopub.status.idle": "2024-12-03T07:10:32.663849Z",
     "shell.execute_reply": "2024-12-03T07:10:32.662654Z",
     "shell.execute_reply.started": "2024-12-03T07:07:19.481124Z"
    },
    "tags": []
   },
   "outputs": [
    {
     "name": "stdout",
     "output_type": "stream",
     "text": [
      "n_embedding:  30\n",
      "normalization:  True\n",
      "K:  30\n",
      "knnMethod:  NNDescent\n",
      "for each cell, find K nearest genes in the co-embedded space......\n",
      "for each cell, find K nearest genes in the co-embedded space......\n",
      "knn_based_Sim_ref:\n",
      "(10000, 14781)\n",
      "knn_based_Sim_query: \n",
      "(13101, 14781)\n",
      "\n",
      "Direct merge softmax-weighted coded reference and query dataset......\n",
      "(23101, 14781)\n",
      "\n",
      " reduction on sparse cell-markerGenes softmax-weighted matrix, to get low-embedding of cells only, using BiMapping\n",
      "v5...\n",
      "(10000, 30)\n",
      "(13101, 30)\n",
      "\n",
      "K_majority = 5 (for majority voting)\n",
      "find knn...\n",
      "voting...\n",
      "CAGCCGTCACAGAGCGGCAA.CL200140333_L01                 K-562\n",
      "AAGGTTCAATGTTACCACAT.DP8400020473BL_L01_80           SW480\n",
      "CTACCGCGATCTTCAATAAT.CL200140455_L02                  HeLa\n",
      "TCCTCGAGTAAGGTTAGGAG.DP8400012307BR_L01_15           HepG2\n",
      "CGTCGGTTAATTGTGGCATC.CL200140333_L02          MDA-MB-231_2\n",
      "Name: cell_type_predicted, dtype: object\n",
      "CPU times: user 10min 35s, sys: 1min 14s, total: 11min 49s\n",
      "Wall time: 3min 13s\n"
     ]
    }
   ],
   "source": [
    "%%time\n",
    "n_embedding = 30; # number of embeddings\n",
    "K = 30; # this parameter will heavily influence the speed. Don't be too large\n",
    "K_majority = 5; # parameter for marjority voting\n",
    "normalization = True; knnMethod = 'NNDescent'; metric = 'euclidean'\n",
    "reduction_method_on_cells_only = 'BiMapping'; # 'BiMapping','SnapATAC2','None','minHash'\n",
    "\n",
    "CellType_Key_for_ref = 'cancer_type' # this setting is Necessary, which denotes the cell type key of the reference dataset\n",
    "scBiMapping.scBiMapping_annotation(adata_ref, adata_query,n_embedding = n_embedding,normalization = normalization,K = K,K_majority = K_majority,knnMethod = knnMethod,reduction_method_on_cells_only = reduction_method_on_cells_only,CellType_Key_for_ref =CellType_Key_for_ref)\n",
    "print(adata_query.obs['cell_type_predicted'].head()) # predicted cell types for query cells"
   ]
  },
  {
   "cell_type": "code",
   "execution_count": 4,
   "id": "0111ce7f-6c74-4114-a968-b674098d3ccd",
   "metadata": {
    "execution": {
     "iopub.execute_input": "2024-12-03T07:10:32.665043Z",
     "iopub.status.busy": "2024-12-03T07:10:32.664844Z",
     "iopub.status.idle": "2024-12-03T07:10:32.681913Z",
     "shell.execute_reply": "2024-12-03T07:10:32.680954Z",
     "shell.execute_reply.started": "2024-12-03T07:10:32.665025Z"
    }
   },
   "outputs": [
    {
     "name": "stdout",
     "output_type": "stream",
     "text": [
      "accuracy: 0.9173345546141516\n"
     ]
    }
   ],
   "source": [
    "# Evaluate \n",
    "accuracy = accuracy_score(adata_query.obs['cancer_type'], adata_query.obs['cell_type_predicted'])\n",
    "print(f'accuracy: {accuracy}')"
   ]
  },
  {
   "cell_type": "code",
   "execution_count": null,
   "id": "7230a047-b3a1-48fd-990e-3bd0be6c3b5b",
   "metadata": {},
   "outputs": [],
   "source": []
  }
 ],
 "metadata": {
  "kernelspec": {
   "display_name": "Python 3 (ipykernel)",
   "language": "python",
   "name": "python3"
  },
  "language_info": {
   "codemirror_mode": {
    "name": "ipython",
    "version": 3
   },
   "file_extension": ".py",
   "mimetype": "text/x-python",
   "name": "python",
   "nbconvert_exporter": "python",
   "pygments_lexer": "ipython3",
   "version": "3.11.0"
  }
 },
 "nbformat": 4,
 "nbformat_minor": 5
}
