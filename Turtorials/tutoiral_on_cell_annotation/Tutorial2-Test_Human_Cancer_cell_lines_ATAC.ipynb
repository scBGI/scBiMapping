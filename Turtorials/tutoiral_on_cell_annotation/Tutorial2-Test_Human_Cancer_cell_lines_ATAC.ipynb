{
 "cells": [
  {
   "cell_type": "code",
   "execution_count": 1,
   "id": "0eef4216-b8b6-4e26-9c8b-3e4c9c4e1bbf",
   "metadata": {
    "execution": {
     "iopub.execute_input": "2024-12-03T02:29:56.641080Z",
     "iopub.status.busy": "2024-12-03T02:29:56.640640Z",
     "iopub.status.idle": "2024-12-03T02:30:01.966170Z",
     "shell.execute_reply": "2024-12-03T02:30:01.965110Z",
     "shell.execute_reply.started": "2024-12-03T02:29:56.641013Z"
    },
    "tags": []
   },
   "outputs": [],
   "source": [
    "import pandas as pd\n",
    "from sklearn.metrics import accuracy_score\n",
    "import scBiMapping\n",
    "import anndata as ad\n",
    "import scanpy as sc\n",
    "import numpy as np\n",
    "import warnings\n",
    "warnings.filterwarnings(\"ignore\")"
   ]
  },
  {
   "cell_type": "code",
   "execution_count": 2,
   "id": "240bce6c-3c57-456b-a231-f195d8b7f455",
   "metadata": {
    "execution": {
     "iopub.execute_input": "2024-12-03T02:30:01.967795Z",
     "iopub.status.busy": "2024-12-03T02:30:01.967372Z",
     "iopub.status.idle": "2024-12-03T02:30:24.614861Z",
     "shell.execute_reply": "2024-12-03T02:30:24.613956Z",
     "shell.execute_reply.started": "2024-12-03T02:30:01.967778Z"
    },
    "tags": []
   },
   "outputs": [
    {
     "name": "stdout",
     "output_type": "stream",
     "text": [
      "View of AnnData object with n_obs × n_vars = 27038 × 606219\n",
      "    obs: 'n_fragment', 'frac_dup', 'frac_mito', 'doublet_probability', 'doublet_score', 'cell_annotation', 'batch'\n",
      "View of AnnData object with n_obs × n_vars = 27037 × 606219\n",
      "    obs: 'n_fragment', 'frac_dup', 'frac_mito', 'doublet_probability', 'doublet_score', 'cell_annotation', 'batch'\n"
     ]
    }
   ],
   "source": [
    "adata = ad.read('/data/work/test_data/Human_Cancer_cell_lines_ATAC.h5ad')  \n",
    "adata.var_names_make_unique()\n",
    " \n",
    "np.random.seed(seed=1)\n",
    "id = np.arange(adata.n_obs); np.random.shuffle(id); adata = adata[id,:]\n",
    "half_length = (adata.n_obs + 1) // 2\n",
    "\n",
    "adata_ref = adata[:half_length,:]\n",
    "adata_query = adata[half_length:,:]\n",
    "print(adata_ref); print(adata_query)"
   ]
  },
  {
   "cell_type": "markdown",
   "id": "b071f835-511e-4195-a826-9091f185193c",
   "metadata": {},
   "source": [
    "## Case1： knnMethod = 'HNSW'"
   ]
  },
  {
   "cell_type": "code",
   "execution_count": 3,
   "id": "5b733fbc-8d24-4308-842f-2f14e17df74a",
   "metadata": {
    "execution": {
     "iopub.execute_input": "2024-12-03T02:30:24.615743Z",
     "iopub.status.busy": "2024-12-03T02:30:24.615563Z",
     "iopub.status.idle": "2024-12-03T02:48:03.456083Z",
     "shell.execute_reply": "2024-12-03T02:48:03.454946Z",
     "shell.execute_reply.started": "2024-12-03T02:30:24.615728Z"
    },
    "tags": []
   },
   "outputs": [
    {
     "name": "stdout",
     "output_type": "stream",
     "text": [
      "n_embedding:  30\n",
      "normalization:  True\n",
      "K:  30\n",
      "knnMethod:  HNSW\n",
      "for each cell, find K nearest genes in the co-embedded space......\n",
      "for each cell, find K nearest genes in the co-embedded space......\n",
      "knn_based_Sim_ref:\n",
      "(27038, 606219)\n",
      "knn_based_Sim_query: \n",
      "(27037, 606219)\n",
      "\n",
      "Direct merge softmax-weighted coded reference and query dataset......\n",
      "(54075, 606219)\n",
      "\n",
      " reduction on sparse cell-markerGenes softmax-weighted matrix, to get low-embedding of cells only, using BiMapping\n",
      "v5...\n",
      "(27038, 30)\n",
      "(27037, 30)\n",
      "\n",
      "K_majority = 5 (for majority voting)\n",
      "find knn...\n",
      "voting...\n",
      "CL100169138_L02_BC2084_N02_13494            LoVo\n",
      "CL100169139_L01_BC3288_N01_38386            Hap1\n",
      "DP8400011418BR_L01_5_BC01297_N02_31537      A549\n",
      "CL100169139_L02_BC0078_N01_32926          Caco-2\n",
      "CL100169139_L02_BC0961_N02_32974           SNB75\n",
      "Name: cell_type_predicted, dtype: object\n",
      "CPU times: user 53min 7s, sys: 1min 20s, total: 54min 27s\n",
      "Wall time: 17min 38s\n"
     ]
    }
   ],
   "source": [
    "%%time\n",
    "n_embedding = 30; # number of embeddings\n",
    "K = 30; # this parameter will heavily influence the speed. Don't be too large\n",
    "K_majority = 5; # parameter for marjority voting\n",
    "normalization = True; \n",
    "knnMethod = 'HNSW'; # 'HNSW','NNDescent'\n",
    "metric = 'euclidean'\n",
    "reduction_method_on_cells_only = 'BiMapping'; # 'BiMapping','SnapATAC2','None','minHash'\n",
    "\n",
    "CellType_Key_for_ref = 'cell_annotation' # this setting is Necessary, which denotes the cell type key of the reference dataset\n",
    "scBiMapping.scBiMapping_annotation(adata_ref, adata_query,n_embedding = n_embedding,normalization = normalization,K = K,K_majority = K_majority,knnMethod = knnMethod,reduction_method_on_cells_only = reduction_method_on_cells_only,CellType_Key_for_ref =CellType_Key_for_ref)\n",
    "print(adata_query.obs['cell_type_predicted'].head()) # predicted cell types for query cells"
   ]
  },
  {
   "cell_type": "code",
   "execution_count": 4,
   "id": "6742bfba-1371-4f6c-b5a1-75430e3199a2",
   "metadata": {
    "execution": {
     "iopub.execute_input": "2024-12-03T02:48:03.458713Z",
     "iopub.status.busy": "2024-12-03T02:48:03.458383Z",
     "iopub.status.idle": "2024-12-03T02:48:03.488350Z",
     "shell.execute_reply": "2024-12-03T02:48:03.487280Z",
     "shell.execute_reply.started": "2024-12-03T02:48:03.458690Z"
    },
    "tags": []
   },
   "outputs": [
    {
     "name": "stdout",
     "output_type": "stream",
     "text": [
      "accuracy: 0.5975515034952102\n"
     ]
    }
   ],
   "source": [
    "# Evaluate \n",
    "accuracy = accuracy_score(adata_query.obs['cell_annotation'], adata_query.obs['cell_type_predicted'])\n",
    "print(f'accuracy: {accuracy}')"
   ]
  },
  {
   "cell_type": "markdown",
   "id": "55c60b97-f7ee-4b3c-8c50-2b6a036b90af",
   "metadata": {},
   "source": [
    "## Case2： knnMethod = 'NNDescent'"
   ]
  },
  {
   "cell_type": "code",
   "execution_count": 5,
   "id": "8c61ccab-68fb-4364-998f-0dbbe77f1709",
   "metadata": {
    "execution": {
     "iopub.execute_input": "2024-12-03T02:48:03.493804Z",
     "iopub.status.busy": "2024-12-03T02:48:03.493506Z",
     "iopub.status.idle": "2024-12-03T03:12:50.346985Z",
     "shell.execute_reply": "2024-12-03T03:12:50.345845Z",
     "shell.execute_reply.started": "2024-12-03T02:48:03.493790Z"
    },
    "tags": []
   },
   "outputs": [
    {
     "name": "stdout",
     "output_type": "stream",
     "text": [
      "n_embedding:  30\n",
      "normalization:  True\n",
      "K:  30\n",
      "knnMethod:  NNDescent\n",
      "for each cell, find K nearest genes in the co-embedded space......\n",
      "for each cell, find K nearest genes in the co-embedded space......\n",
      "knn_based_Sim_ref:\n",
      "(27038, 606219)\n",
      "knn_based_Sim_query: \n",
      "(27037, 606219)\n",
      "\n",
      "Direct merge softmax-weighted coded reference and query dataset......\n",
      "(54075, 606219)\n",
      "\n",
      " reduction on sparse cell-markerGenes softmax-weighted matrix, to get low-embedding of cells only, using BiMapping\n",
      "v5...\n",
      "(27038, 30)\n",
      "(27037, 30)\n",
      "\n",
      "K_majority = 5 (for majority voting)\n",
      "find knn...\n",
      "voting...\n",
      "CL100169138_L02_BC2084_N02_13494           LoVo\n",
      "CL100169139_L01_BC3288_N01_38386           Hap1\n",
      "DP8400011418BR_L01_5_BC01297_N02_31537     A549\n",
      "CL100169139_L02_BC0078_N01_32926          786-O\n",
      "CL100169139_L02_BC0961_N02_32974           HK-2\n",
      "Name: cell_type_predicted, dtype: object\n",
      "CPU times: user 1h 58min 40s, sys: 10min 22s, total: 2h 9min 2s\n",
      "Wall time: 24min 46s\n"
     ]
    }
   ],
   "source": [
    "%%time\n",
    "n_embedding = 30; # number of embeddings\n",
    "K = 30; # this parameter will heavily influence the speed. Don't be too large\n",
    "K_majority = 5; # parameter for marjority voting\n",
    "normalization = True; \n",
    "knnMethod = 'NNDescent'; # 'HNSW','NNDescent'\n",
    "metric = 'euclidean'\n",
    "reduction_method_on_cells_only = 'BiMapping'; # 'BiMapping','SnapATAC2','None','minHash'\n",
    "\n",
    "CellType_Key_for_ref = 'cell_annotation' # this setting is Necessary, which denotes the cell type key of the reference dataset\n",
    "scBiMapping.scBiMapping_annotation(adata_ref, adata_query,n_embedding = n_embedding,normalization = normalization,K = K,K_majority = K_majority,knnMethod = knnMethod,reduction_method_on_cells_only = reduction_method_on_cells_only,CellType_Key_for_ref =CellType_Key_for_ref)\n",
    "print(adata_query.obs['cell_type_predicted'].head()) # predicted cell types for query cells"
   ]
  },
  {
   "cell_type": "code",
   "execution_count": 6,
   "id": "ef0790b4-7d2e-4342-bb2b-8251e8ffa4ea",
   "metadata": {
    "execution": {
     "iopub.execute_input": "2024-12-03T03:12:50.348074Z",
     "iopub.status.busy": "2024-12-03T03:12:50.347890Z",
     "iopub.status.idle": "2024-12-03T03:12:50.376648Z",
     "shell.execute_reply": "2024-12-03T03:12:50.375848Z",
     "shell.execute_reply.started": "2024-12-03T03:12:50.348055Z"
    },
    "tags": []
   },
   "outputs": [
    {
     "name": "stdout",
     "output_type": "stream",
     "text": [
      "accuracy: 0.9501793838073751\n"
     ]
    }
   ],
   "source": [
    "# Evaluate \n",
    "accuracy = accuracy_score(adata_query.obs['cell_annotation'], adata_query.obs['cell_type_predicted'])\n",
    "print(f'accuracy: {accuracy}')"
   ]
  },
  {
   "cell_type": "code",
   "execution_count": null,
   "id": "5510b92c-cadb-43ec-b639-c28a5c581be1",
   "metadata": {},
   "outputs": [],
   "source": []
  }
 ],
 "metadata": {
  "kernelspec": {
   "display_name": "Python 3 (ipykernel)",
   "language": "python",
   "name": "python3"
  },
  "language_info": {
   "codemirror_mode": {
    "name": "ipython",
    "version": 3
   },
   "file_extension": ".py",
   "mimetype": "text/x-python",
   "name": "python",
   "nbconvert_exporter": "python",
   "pygments_lexer": "ipython3",
   "version": "3.11.0"
  }
 },
 "nbformat": 4,
 "nbformat_minor": 5
}
